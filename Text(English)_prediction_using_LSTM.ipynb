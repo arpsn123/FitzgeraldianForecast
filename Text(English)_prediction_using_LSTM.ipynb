{
 "cells": [
  {
   "cell_type": "code",
   "execution_count": 5,
   "id": "4e4cc3ae",
   "metadata": {},
   "outputs": [],
   "source": [
    "# as i am training on the_great_gatsby by 'Francis Scott Key Fitzgerald', this model will predict on basically 'Fitzgeraldian tone';\n",
    "# this would predict word, as predicting sentenses means basically NLP, by tokenizing individual words not letters;"
   ]
  },
  {
   "cell_type": "code",
   "execution_count": 1,
   "id": "75e58ad7",
   "metadata": {},
   "outputs": [],
   "source": [
    "from keras.models import Sequential\n",
    "from keras.layers import Dense, Dropout, LSTM\n",
    "from keras.optimizers import RMSprop\n",
    "import numpy as np\n",
    "import random\n",
    "import sys"
   ]
  },
  {
   "cell_type": "code",
   "execution_count": null,
   "id": "c4e3a5ca",
   "metadata": {},
   "outputs": [],
   "source": []
  },
  {
   "cell_type": "code",
   "execution_count": 2,
   "id": "6abb28bf",
   "metadata": {},
   "outputs": [
    {
     "name": "stdout",
     "output_type": "stream",
     "text": [
      "                                  i\n",
      "\n",
      "in my younger and more vulnerable years my father gave me some advice\n",
      "that i’ve been turning over in my mind ever since.\n",
      "\n",
      "“whenever you feel like criticizing anyone,” he told me, “just\n",
      "remember that all the people in this world haven’t had the advantages\n",
      "that you’ve had.”\n",
      "\n",
      "he didn’t say any more, but we’ve always been unusually communicative\n",
      "in a reserved way, and i understood that he meant a great deal more\n",
      "than that. in consequence, i’m inclined to reserve all judgements, a\n",
      "habit that has opened up many curious natures to me and also made me\n",
      "the victim of not a few veteran bores. the abnormal mind is quick to\n",
      "detect and attach itself to this quality when it appears in a normal\n",
      "person, and so it came about that in college i was unjustly accused of\n",
      "being a politician, because i was privy to the secret griefs of wild,\n",
      "unknown men. most of the confidences were unsought—frequently i have\n",
      "feigned sleep, preoccupation, or a hostile levity when i realized\n"
     ]
    }
   ],
   "source": [
    "# load text by opening the file\n",
    "filename = r\"D:\\Deep Learning\\Text Prediction Using LSTM\\English Text\\the_great_gatsby.txt\"\n",
    "\n",
    "raw_text = open(filename, 'r', encoding = 'utf8').read() # contains both uppercase + lowercase alphabets, nothing wrong with this but the vocabulary gonna be very big ---> needs lots of training, to make meaningful senetences, so make everything as lowercase letters;\n",
    "raw_text = raw_text.lower() # converting into lowercase letters;\n",
    "\n",
    "print(raw_text[0 : 1000]) # printing 1st 1000 characters;"
   ]
  },
  {
   "cell_type": "code",
   "execution_count": 3,
   "id": "6b50e03e",
   "metadata": {},
   "outputs": [],
   "source": [
    "# now cleaning the text, by removing the numbers;\n",
    "raw_text = \"\".join(c for c in raw_text if not c.isdigit())"
   ]
  },
  {
   "cell_type": "code",
   "execution_count": 4,
   "id": "d813c3db",
   "metadata": {},
   "outputs": [
    {
     "name": "stdout",
     "output_type": "stream",
     "text": [
      "52\n"
     ]
    }
   ],
   "source": [
    "# total characters do i have in the training text : list of unique every character, as set used;\n",
    "chars = sorted(list(set(raw_text))) # including all special cahracters + space + alphabets; u may drop al of these without the alphabets using many NLP Tools;\n",
    "\n",
    "print(len(chars))"
   ]
  },
  {
   "cell_type": "code",
   "execution_count": 5,
   "id": "59f24879",
   "metadata": {},
   "outputs": [],
   "source": [
    "# as i am dealing with NN, this only understands the numbers, so i need to assign a unique no of every 'chars', by using the dictionary;\n",
    "char_to_int = dict((c, i) for i, c in enumerate(chars)) # creating a dictionary of characters mapped to integer values;\n",
    "\n",
    "# i also need the characters from the integers after the prediction, as we doesnot understands the numbers;\n",
    "int_to_chars = dict((i, c) for i, c in enumerate(chars))"
   ]
  },
  {
   "cell_type": "code",
   "execution_count": 6,
   "id": "14408542",
   "metadata": {},
   "outputs": [
    {
     "name": "stdout",
     "output_type": "stream",
     "text": [
      "corpus length(total #characters) :  270108\n",
      "total vocabulary(unique characters) :  52\n"
     ]
    }
   ],
   "source": [
    "n_chars = len(raw_text)\n",
    "n_vocab = len(chars)\n",
    "print('corpus length(total #characters) : ', n_chars)\n",
    "print('total vocabulary(unique characters) : ', n_vocab)"
   ]
  },
  {
   "cell_type": "code",
   "execution_count": null,
   "id": "078cb34a",
   "metadata": {},
   "outputs": [],
   "source": []
  },
  {
   "cell_type": "code",
   "execution_count": null,
   "id": "84e5ccd4",
   "metadata": {},
   "outputs": [],
   "source": []
  },
  {
   "cell_type": "code",
   "execution_count": 7,
   "id": "2ca3adfb",
   "metadata": {},
   "outputs": [
    {
     "name": "stdout",
     "output_type": "stream",
     "text": [
      "Number of sequences: 27005\n"
     ]
    }
   ],
   "source": [
    "seq_length = 60 \n",
    "step = 10 # from [0 to 9(total 10 tuples) --> input], 10th --> output;\n",
    "\n",
    "sentences = [] # x values\n",
    "next_chars = [] # y values, the character that follows the sentence defined as X;\n",
    "\n",
    "for i in range(0, n_chars - seq_length, step):  #step=1 means each sentence is offset just by a single letter\n",
    "    sentences.append(raw_text[i: i + seq_length])  #Sequence in\n",
    "    next_chars.append(raw_text[i + seq_length])  #Sequence out\n",
    "n_patterns = len(sentences)    \n",
    "print('Number of sequences:', n_patterns)"
   ]
  },
  {
   "cell_type": "code",
   "execution_count": 17,
   "id": "847556a3",
   "metadata": {},
   "outputs": [],
   "source": [
    "# sentences"
   ]
  },
  {
   "cell_type": "code",
   "execution_count": 18,
   "id": "2b404415",
   "metadata": {},
   "outputs": [
    {
     "name": "stdout",
     "output_type": "stream",
     "text": [
      "(27005, 60, 52)\n",
      "(27005, 52)\n",
      "[[False False False False False False False False False False False False\n",
      "  False False False False False False False False False False False False\n",
      "  False False False False False False False False False False False False\n",
      "   True False False False False False False False False False False False\n",
      "  False False False False]\n",
      " [False  True False False False False False False False False False False\n",
      "  False False False False False False False False False False False False\n",
      "  False False False False False False False False False False False False\n",
      "  False False False False False False False False False False False False\n",
      "  False False False False]\n",
      " [False False False False False False False False False False False False\n",
      "  False False False False False False False False  True False False False\n",
      "  False False False False False False False False False False False False\n",
      "  False False False False False False False False False False False False\n",
      "  False False False False]\n",
      " [False False False False False False False False False False False False\n",
      "  False False False False False False False  True False False False False\n",
      "  False False False False False False False False False False False False\n",
      "  False False False False False False False False False False False False\n",
      "  False False False False]\n",
      " [False False False False False False False False False False False False\n",
      "  False False False  True False False False False False False False False\n",
      "  False False False False False False False False False False False False\n",
      "  False False False False False False False False False False False False\n",
      "  False False False False]\n",
      " [False False False False False False False False False False False False\n",
      "  False False False False False False False False False False False False\n",
      "  False False False False False False False False False False  True False\n",
      "  False False False False False False False False False False False False\n",
      "  False False False False]\n",
      " [False False False False False False False False False False False False\n",
      "  False False False False False False False False False False False False\n",
      "  False False False False  True False False False False False False False\n",
      "  False False False False False False False False False False False False\n",
      "  False False False False]\n",
      " [False False False False False False False False False False False False\n",
      "  False False False False False False False False False False False False\n",
      "  False False False False False  True False False False False False False\n",
      "  False False False False False False False False False False False False\n",
      "  False False False False]\n",
      " [False  True False False False False False False False False False False\n",
      "  False False False False False False False False False False False False\n",
      "  False False False False False False False False False False False False\n",
      "  False False False False False False False False False False False False\n",
      "  False False False False]\n",
      " [False  True False False False False False False False False False False\n",
      "  False False False False False False False False False False False False\n",
      "  False False False False False False False False False False False False\n",
      "  False False False False False False False False False False False False\n",
      "  False False False False]]\n"
     ]
    }
   ],
   "source": [
    "# x --> sequence / sentence;\n",
    "# y --> next value(character) that comes after the sentence;\n",
    "# reshape input to be [samples, time steps --> sequence length, features --> numbers of characters in our vocab (n_vocab)];\n",
    "\n",
    "# doing vectorization; this returns a vector for all sentences indicating the presence or ansences of a character;\n",
    "\n",
    "\n",
    "x = np.zeros((len(sentences), seq_length, n_vocab), dtype=bool)\n",
    "y = np.zeros((len(sentences), n_vocab), dtype=bool)\n",
    "for i, sentence in enumerate(sentences):\n",
    "    for t, char in enumerate(sentence):\n",
    "        x[i, t, char_to_int[char]] = 1\n",
    "    y[i, char_to_int[next_chars[i]]] = 1\n",
    "    \n",
    "print(x.shape) \n",
    "# (27005 --> length of senetnces, 60 --> a single sequence length, 52 --> available unique letters)\n",
    "# the vector value is either (false or true) as vectorization done;\n",
    "\n",
    "print(y.shape)\n",
    "# this is also true/false, means each one of 27005, i have 51 false and 1 true for that particular letter(ie. a), may be interpreted as one hot encoding;\n",
    "\n",
    "print(y[0:10])"
   ]
  },
  {
   "cell_type": "code",
   "execution_count": null,
   "id": "da66dbe5",
   "metadata": {},
   "outputs": [],
   "source": []
  },
  {
   "cell_type": "code",
   "execution_count": null,
   "id": "6f6150b2",
   "metadata": {},
   "outputs": [],
   "source": []
  },
  {
   "cell_type": "code",
   "execution_count": 20,
   "id": "1f44d67d",
   "metadata": {},
   "outputs": [
    {
     "name": "stderr",
     "output_type": "stream",
     "text": [
      "WARNING:absl:`lr` is deprecated in Keras optimizer, please use `learning_rate` or use the legacy optimizer, e.g.,tf.keras.optimizers.legacy.RMSprop.\n"
     ]
    },
    {
     "name": "stdout",
     "output_type": "stream",
     "text": [
      "Model: \"sequential\"\n",
      "_________________________________________________________________\n",
      " Layer (type)                Output Shape              Param #   \n",
      "=================================================================\n",
      " lstm (LSTM)                 (None, 60, 128)           92672     \n",
      "                                                                 \n",
      " lstm_1 (LSTM)               (None, 60, 64)            49408     \n",
      "                                                                 \n",
      " lstm_2 (LSTM)               (None, 64)                33024     \n",
      "                                                                 \n",
      " dense (Dense)               (None, 64)                4160      \n",
      "                                                                 \n",
      " dense_1 (Dense)             (None, 52)                3380      \n",
      "                                                                 \n",
      "=================================================================\n",
      "Total params: 182644 (713.45 KB)\n",
      "Trainable params: 182644 (713.45 KB)\n",
      "Non-trainable params: 0 (0.00 Byte)\n",
      "_________________________________________________________________\n"
     ]
    }
   ],
   "source": [
    "model = Sequential()\n",
    "model.add(LSTM(128, return_sequences=True, input_shape=(seq_length, n_vocab)))\n",
    "model.add(LSTM(64, return_sequences=True))\n",
    "model.add(LSTM(64))\n",
    "\n",
    "model.add(Dense(64))\n",
    "model.add(Dense(n_vocab, activation='softmax'))\n",
    "\n",
    "optimizer = RMSprop(lr=0.01)\n",
    "model.compile(loss='categorical_crossentropy', optimizer=optimizer)\n",
    "model.summary()"
   ]
  },
  {
   "cell_type": "code",
   "execution_count": 21,
   "id": "da8a2ac6",
   "metadata": {},
   "outputs": [
    {
     "name": "stdout",
     "output_type": "stream",
     "text": [
      "Epoch 1/10\n",
      "211/211 [==============================] - 86s 353ms/step - loss: 3.0911\n",
      "Epoch 2/10\n",
      "211/211 [==============================] - 63s 299ms/step - loss: 3.0401\n",
      "Epoch 3/10\n",
      "211/211 [==============================] - 63s 297ms/step - loss: 3.0171\n",
      "Epoch 4/10\n",
      "211/211 [==============================] - 62s 295ms/step - loss: 2.8636\n",
      "Epoch 5/10\n",
      "211/211 [==============================] - 62s 293ms/step - loss: 2.7562\n",
      "Epoch 6/10\n",
      "211/211 [==============================] - 64s 303ms/step - loss: 2.6839\n",
      "Epoch 7/10\n",
      "211/211 [==============================] - 73s 345ms/step - loss: 2.6014\n",
      "Epoch 8/10\n",
      "211/211 [==============================] - 79s 374ms/step - loss: 2.5143\n",
      "Epoch 9/10\n",
      "211/211 [==============================] - 68s 324ms/step - loss: 2.4168\n",
      "Epoch 10/10\n",
      "211/211 [==============================] - 67s 316ms/step - loss: 2.3530\n"
     ]
    },
    {
     "name": "stderr",
     "output_type": "stream",
     "text": [
      "C:\\python_arpan\\lib\\site-packages\\keras\\src\\engine\\training.py:3000: UserWarning: You are saving your model as an HDF5 file via `model.save()`. This file format is considered legacy. We recommend using instead the native Keras format, e.g. `model.save('my_model.keras')`.\n",
      "  saving_api.save_model(\n"
     ]
    }
   ],
   "source": [
    "history = model.fit(x, y,\n",
    "          batch_size=128,\n",
    "          epochs=10)\n",
    "\n",
    "model.save('the_great_gatsby_10epochs.h5')"
   ]
  },
  {
   "cell_type": "code",
   "execution_count": 27,
   "id": "2011f983",
   "metadata": {},
   "outputs": [],
   "source": [
    "# for loading partially trained model\n",
    "from keras.models import load_model\n",
    "new_model = load_model(r\"D:\\Deep Learning\\Text Prediction Using LSTM\\English Text\\the_great_gatsby_10epochs.h5\", compile=False)\n",
    "new_model.compile('adam', loss = 'categorical_crossentropy') # u need to compile the newly loaded model, othwerwise u would not be able to evaluate or train or predict;\n",
    "\n",
    "# # seeing how your model is performing, in case u forgotten\n",
    "# results2 = new_model2.evaluate(X_test2, y_test_cat, steps = 16)\n",
    "# print(\"Validation loss & accuracy : \", results2)"
   ]
  },
  {
   "cell_type": "code",
   "execution_count": 28,
   "id": "174bca55",
   "metadata": {},
   "outputs": [
    {
     "name": "stdout",
     "output_type": "stream",
     "text": [
      "Epoch 1/50\n",
      "211/211 [==============================] - 69s 297ms/step - loss: 2.2992\n",
      "Epoch 2/50\n",
      "211/211 [==============================] - 62s 294ms/step - loss: 2.2432\n",
      "Epoch 3/50\n",
      "211/211 [==============================] - 62s 293ms/step - loss: 2.1897\n",
      "Epoch 4/50\n",
      "211/211 [==============================] - 62s 295ms/step - loss: 2.1407\n",
      "Epoch 5/50\n",
      "211/211 [==============================] - 63s 298ms/step - loss: 2.0929\n",
      "Epoch 6/50\n",
      "211/211 [==============================] - 64s 305ms/step - loss: 2.0476\n",
      "Epoch 7/50\n",
      "211/211 [==============================] - 71s 338ms/step - loss: 2.0088\n",
      "Epoch 8/50\n",
      "211/211 [==============================] - 75s 356ms/step - loss: 1.9625\n",
      "Epoch 9/50\n",
      "211/211 [==============================] - 71s 334ms/step - loss: 1.9191\n",
      "Epoch 10/50\n",
      "211/211 [==============================] - 68s 320ms/step - loss: 1.8744\n",
      "Epoch 11/50\n",
      "211/211 [==============================] - 66s 313ms/step - loss: 1.8354\n",
      "Epoch 12/50\n",
      "211/211 [==============================] - 63s 299ms/step - loss: 1.7942\n",
      "Epoch 13/50\n",
      "211/211 [==============================] - 64s 301ms/step - loss: 1.7472\n",
      "Epoch 14/50\n",
      "211/211 [==============================] - 63s 299ms/step - loss: 1.7028\n",
      "Epoch 15/50\n",
      "211/211 [==============================] - 63s 301ms/step - loss: 1.6545\n",
      "Epoch 16/50\n",
      "211/211 [==============================] - 63s 299ms/step - loss: 1.6069\n",
      "Epoch 17/50\n",
      "211/211 [==============================] - 64s 301ms/step - loss: 1.5605\n",
      "Epoch 18/50\n",
      "211/211 [==============================] - 63s 300ms/step - loss: 1.5124\n",
      "Epoch 19/50\n",
      "211/211 [==============================] - 63s 301ms/step - loss: 1.4606\n",
      "Epoch 20/50\n",
      "211/211 [==============================] - 63s 300ms/step - loss: 1.4031\n",
      "Epoch 21/50\n",
      "211/211 [==============================] - 64s 304ms/step - loss: 1.3564\n",
      "Epoch 22/50\n",
      "211/211 [==============================] - 63s 300ms/step - loss: 1.2910\n",
      "Epoch 23/50\n",
      "211/211 [==============================] - 63s 301ms/step - loss: 1.2416\n",
      "Epoch 24/50\n",
      "211/211 [==============================] - 63s 300ms/step - loss: 1.1856\n",
      "Epoch 25/50\n",
      "211/211 [==============================] - 63s 299ms/step - loss: 1.1293\n",
      "Epoch 26/50\n",
      "211/211 [==============================] - 63s 300ms/step - loss: 1.0695\n",
      "Epoch 27/50\n",
      "211/211 [==============================] - 64s 304ms/step - loss: 1.0158\n",
      "Epoch 28/50\n",
      "211/211 [==============================] - 63s 300ms/step - loss: 0.9606\n",
      "Epoch 29/50\n",
      "211/211 [==============================] - 63s 299ms/step - loss: 0.9176\n",
      "Epoch 30/50\n",
      "211/211 [==============================] - 63s 300ms/step - loss: 0.8516\n",
      "Epoch 31/50\n",
      "211/211 [==============================] - 63s 300ms/step - loss: 0.7963\n",
      "Epoch 32/50\n",
      "211/211 [==============================] - 64s 301ms/step - loss: 0.7409\n",
      "Epoch 33/50\n",
      "211/211 [==============================] - 63s 300ms/step - loss: 0.6953\n",
      "Epoch 34/50\n",
      "211/211 [==============================] - 63s 300ms/step - loss: 0.6551\n",
      "Epoch 35/50\n",
      "211/211 [==============================] - 64s 302ms/step - loss: 0.6070\n",
      "Epoch 36/50\n",
      "211/211 [==============================] - 64s 301ms/step - loss: 0.5575\n",
      "Epoch 37/50\n",
      "211/211 [==============================] - 63s 300ms/step - loss: 0.5189\n",
      "Epoch 38/50\n",
      "211/211 [==============================] - 63s 301ms/step - loss: 0.4782\n",
      "Epoch 39/50\n",
      "211/211 [==============================] - 63s 300ms/step - loss: 0.4592\n",
      "Epoch 40/50\n",
      "211/211 [==============================] - 63s 301ms/step - loss: 0.4163\n",
      "Epoch 41/50\n",
      "211/211 [==============================] - 63s 301ms/step - loss: 0.4058\n",
      "Epoch 42/50\n",
      "211/211 [==============================] - 64s 301ms/step - loss: 0.3597\n",
      "Epoch 43/50\n",
      "211/211 [==============================] - 64s 301ms/step - loss: 0.3377\n",
      "Epoch 44/50\n",
      "211/211 [==============================] - 63s 300ms/step - loss: 0.3070\n",
      "Epoch 45/50\n",
      "211/211 [==============================] - 64s 302ms/step - loss: 0.2780\n",
      "Epoch 46/50\n",
      "211/211 [==============================] - 64s 302ms/step - loss: 0.2662\n",
      "Epoch 47/50\n",
      "211/211 [==============================] - 64s 303ms/step - loss: 0.2714\n",
      "Epoch 48/50\n",
      "211/211 [==============================] - 63s 300ms/step - loss: 0.2647\n",
      "Epoch 49/50\n",
      "211/211 [==============================] - 64s 304ms/step - loss: 0.2599\n",
      "Epoch 50/50\n",
      "211/211 [==============================] - 63s 301ms/step - loss: 0.2106\n"
     ]
    }
   ],
   "source": [
    "history2 = new_model.fit(x, y,\n",
    "          batch_size=128,\n",
    "          epochs=50)\n",
    "\n",
    "model.save('the_great_gatsby_10+50_epochs.hdf5')"
   ]
  },
  {
   "cell_type": "code",
   "execution_count": 29,
   "id": "ed12ff1f",
   "metadata": {},
   "outputs": [
    {
     "data": {
      "image/png": "[encoded data removed]",
      "text/plain": [
       "<Figure size 432x288 with 1 Axes>"
      ]
     },
     "metadata": {
      "needs_background": "light"
     },
     "output_type": "display_data"
    }
   ],
   "source": [
    "from matplotlib import pyplot as plt\n",
    "\n",
    "loss = history2.history['loss']\n",
    "epochs = range(1, len(loss) + 1)\n",
    "plt.plot(epochs, loss, 'y', label='Training loss')\n",
    "plt.title('Training loss')\n",
    "plt.xlabel('Epochs')\n",
    "plt.ylabel('Loss')\n",
    "plt.legend()\n",
    "plt.show()"
   ]
  },
  {
   "cell_type": "code",
   "execution_count": null,
   "id": "ee8437a8",
   "metadata": {},
   "outputs": [],
   "source": []
  },
  {
   "cell_type": "code",
   "execution_count": null,
   "id": "6721032b",
   "metadata": {},
   "outputs": [],
   "source": []
  },
  {
   "cell_type": "code",
   "execution_count": null,
   "id": "1f37188a",
   "metadata": {},
   "outputs": [],
   "source": []
  },
  {
   "cell_type": "code",
   "execution_count": 30,
   "id": "4ced2938",
   "metadata": {},
   "outputs": [],
   "source": [
    "# now i will have 52 different probabilities each for the specific character, so i need to have the max probability for each character, for that gonna build a softmax like function;\n",
    "def sample(preds):\n",
    "    preds = np.asarray(preds).astype('float64')\n",
    "    preds = np.log(preds)\n",
    "    exp_preds = np.exp(preds) #exp of log (x), isn't this same as x??\n",
    "    preds = exp_preds / np.sum(exp_preds)\n",
    "    probas = np.random.multinomial(1, preds, 1) \n",
    "    return np.argmax(probas)"
   ]
  },
  {
   "cell_type": "code",
   "execution_count": null,
   "id": "f1b9a5e8",
   "metadata": {},
   "outputs": [],
   "source": []
  },
  {
   "cell_type": "code",
   "execution_count": 47,
   "id": "e67ab809",
   "metadata": {},
   "outputs": [],
   "source": [
    "# pick a random sentence from the text as seed;\n",
    "start_index = random.randint(0, n_chars - seq_length - 1)"
   ]
  },
  {
   "cell_type": "code",
   "execution_count": 48,
   "id": "7d657a26",
   "metadata": {},
   "outputs": [],
   "source": [
    "# initiate generated text and keep adding new predictions and print them out\n",
    "generated = ''\n",
    "sentence = raw_text[start_index: start_index + seq_length]\n",
    "generated += sentence"
   ]
  },
  {
   "cell_type": "code",
   "execution_count": 49,
   "id": "06e203bf",
   "metadata": {},
   "outputs": [
    {
     "name": "stdout",
     "output_type": "stream",
     "text": [
      "----- Seed for our text prediction: \"me, his face close to the window pane, nodding\n",
      "into the twil\"\n"
     ]
    }
   ],
   "source": [
    "print('----- Seed for our text prediction: \"' + sentence + '\"')"
   ]
  },
  {
   "cell_type": "code",
   "execution_count": 50,
   "id": "555fcedb",
   "metadata": {},
   "outputs": [
    {
     "data": {
      "text/plain": [
       "'me, his face close to the window pane, nodding\\ninto the twil'"
      ]
     },
     "execution_count": 50,
     "metadata": {},
     "output_type": "execute_result"
    }
   ],
   "source": [
    "generated"
   ]
  },
  {
   "cell_type": "code",
   "execution_count": null,
   "id": "969072f4",
   "metadata": {},
   "outputs": [],
   "source": []
  },
  {
   "cell_type": "code",
   "execution_count": 51,
   "id": "3b401d9c",
   "metadata": {},
   "outputs": [
    {
     "name": "stdout",
     "output_type": "stream",
     "text": [
      "e, and extait le the garkinc.\n",
      "\n",
      "“i’r goinit gp mle onereo.”\n",
      "\n",
      "he woommble, flom thou"
     ]
    },
    {
     "name": "stderr",
     "output_type": "stream",
     "text": [
      "C:\\Users\\LENOVO\\AppData\\Local\\Temp\\ipykernel_10636\\3267894335.py:4: RuntimeWarning: divide by zero encountered in log\n",
      "  preds = np.log(preds)\n"
     ]
    },
    {
     "name": "stdout",
     "output_type": "stream",
     "text": [
      "d nor elensuly five you leight jornang.\n",
      "\n",
      "“doo’bt, thes becmowourd.”\n",
      "\n",
      "“gasss? a noal down it—onqme, likhalder. “wangs spoped.\n",
      "\n",
      "“wran, i eeparteded s.”\n",
      "\n",
      "“thant, bage tom the ding, and todmant mr. g. he ayfalsstiklima\n",
      "caissbues. a an aboul thit sproturd fint on the stong-goaw.”\n",
      "\n",
      "sut the fon ussess, onlednable the room. \n"
     ]
    }
   ],
   "source": [
    "for i in range(400):   # Number of characters including spaces\n",
    "    x_pred = np.zeros((1, seq_length, n_vocab))\n",
    "    for t, char in enumerate(sentence):\n",
    "        x_pred[0, t, char_to_int[char]] = 1.\n",
    "\n",
    "    preds = new_model.predict(x_pred, verbose=0)[0]\n",
    "    next_index = sample(preds)\n",
    "    next_char = int_to_chars[next_index]\n",
    "\n",
    "    generated += next_char\n",
    "    sentence = sentence[1:] + next_char\n",
    "\n",
    "    sys.stdout.write(next_char)\n",
    "    sys.stdout.flush()\n",
    "print()"
   ]
  },
  {
   "cell_type": "code",
   "execution_count": null,
   "id": "b5f27147",
   "metadata": {},
   "outputs": [],
   "source": []
  }
 ],
 "metadata": {
  "kernelspec": {
   "display_name": "Python 3 (ipykernel)",
   "language": "python",
   "name": "python3"
  },
  "language_info": {
   "codemirror_mode": {
    "name": "ipython",
    "version": 3
   },
   "file_extension": ".py",
   "mimetype": "text/x-python",
   "name": "python",
   "nbconvert_exporter": "python",
   "pygments_lexer": "ipython3",
   "version": "3.9.7"
  }
 },
 "nbformat": 4,
 "nbformat_minor": 5
}
